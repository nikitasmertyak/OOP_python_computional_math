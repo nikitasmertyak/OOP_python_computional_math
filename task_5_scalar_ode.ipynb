{
 "cells": [
  {
   "cell_type": "code",
   "execution_count": 1,
   "metadata": {},
   "outputs": [],
   "source": [
    "import numpy as np\n",
    "import matplotlib.pyplot as plt\n",
    "plt.rc('font', size=20)\n",
    "import timeit # библиотека для замеров времени"
   ]
  },
  {
   "cell_type": "code",
   "execution_count": 2,
   "metadata": {},
   "outputs": [],
   "source": [
    "class ExplicitEuler:\n",
    "    \n",
    "    def __init__(self, f, u0, numBlocks, tStart, tEnd):\n",
    "        \n",
    "        self.f = f\n",
    "        self.u0 = u0\n",
    "       \n",
    "        self.numBlocks, self.numPoints = numBlocks, numBlocks + 1\n",
    "        self.dt = (float(tEnd) - float(tStart))/self.numBlocks\n",
    "        \n",
    "        self.solutionArray = np.zeros(self.numPoints)\n",
    "        self.timeArray = np.linspace(tStart, tEnd, self.numPoints)\n",
    "        \n",
    "        self.tStart, self.tEnd = float(tStart), float(tEnd)\n",
    "        \n",
    "    \n",
    "    def Solve(self):\n",
    "        \n",
    "      \n",
    "        start = timeit.default_timer()\n",
    "        \n",
    "        # начальное условие\n",
    "        self.solutionArray[0] = self.u0\n",
    "        \n",
    "        # шаги по времени\n",
    "        for i in range(self.numBlocks):\n",
    "            \n",
    "            # для краткости\n",
    "            uOld, dt, f = self.solutionArray[i], self.dt, self.f, \n",
    "                                \n",
    "            # формула явного метода Эйлера \n",
    "            self.solutionArray[i + 1] = uOld + dt*f(uOld)\n",
    "            \n",
    "    def PlotSolution(self):\n",
    "        \n",
    "        plt.plot(self.timeArray, self.solutionArray, '-o')\n",
    "        \n",
    "        \n",
    "       \n",
    "       \n",
    "            \n",
    "    \n"
   ]
  },
  {
   "cell_type": "code",
   "execution_count": 3,
   "metadata": {},
   "outputs": [],
   "source": [
    "class SolveViaHeun(ExplicitEuler):\n",
    "    \n",
    "       def Solve(self):\n",
    "            \n",
    "            start = timeit.default_timer()\n",
    "        \n",
    "        # начальное условие\n",
    "            self.solutionArray[0] = self.u0\n",
    "        \n",
    "            \n",
    "            # шаги по времени\n",
    "            for i in range(self.numBlocks):\n",
    "            \n",
    "            # для краткости\n",
    "                uOld, dt, f = self.solutionArray[i], self.dt, self.f\n",
    "               \n",
    "                uStar = self.solutionArray[i] + dt*f(self.solutionArray[i])  \n",
    "            \n",
    "                self.solutionArray[i + 1] = uOld + dt/2.*(f(uOld)+ f(uStar))   \n",
    "            \n",
    "            \n",
    "\n",
    "    "
   ]
  },
  {
   "cell_type": "code",
   "execution_count": 4,
   "metadata": {},
   "outputs": [],
   "source": [
    "class SolveViaRK4(SolveViaHeun):\n",
    "    \n",
    "       \n",
    "        def Solve(self):\n",
    "        \n",
    "      \n",
    "            start = timeit.default_timer()\n",
    "        \n",
    "        # начальное условие\n",
    "            self.solutionArray[0] = self.u0\n",
    "        \n",
    "        # шаги по времени\n",
    "            for i in range(self.numBlocks):\n",
    "            \n",
    "            # для краткости\n",
    "                uOld, dt, f = self.solutionArray[i], self.dt, self.f, \n",
    "                    \n",
    "                k1 = f(uOld)\n",
    "                k2 = f(uOld + dt/2.*k1)\n",
    "                k3 = f(uOld + dt/2.*k2)\n",
    "                k4 = f(uOld + dt*k3)\n",
    "            \n",
    "                self.solutionArray[i + 1] = uOld + dt/6.*(k1 + 2.*k2 + 2.*k3 + k4)  \n",
    "            \n",
    "\n",
    "                                       \n",
    "            \n",
    "       \n",
    "    "
   ]
  },
  {
   "cell_type": "code",
   "execution_count": 5,
   "metadata": {},
   "outputs": [],
   "source": [
    "class Derivative:\n",
    "    def __init__(self, function, step=1e-5):\n",
    "        self._function = function\n",
    "        self._step = step\n",
    "    \n",
    "    def __call__(self, x):\n",
    "        f, h = self._function, self._step\n",
    "        return 1./(2*h) * (f(x + h) - f(x - h))"
   ]
  },
  {
   "cell_type": "code",
   "execution_count": 6,
   "metadata": {},
   "outputs": [],
   "source": [
    "class Trapezoidal(SolveViaRK4):\n",
    "    \n",
    "  \n",
    "    \n",
    "   \n",
    "    def NextStep(self):\n",
    "        u, f, i, t, dt = self._solutionArray, self._rightHandSideFunction, \\\n",
    "                     self._counter, self._timeArray, self._dt\n",
    "        \n",
    "        def NewtonMethodFunction(y):\n",
    "             return y - dt/2.*f(y) - u[i] - dt/2.*f(u[i])\n",
    "        \n",
    "        NewtonMethodDerivative = Derivative(NewtonMethodFunction)\n",
    "        uOld = u[i] + dt*f(u[i])\n",
    "        NewtonCounter = 0\n",
    "        self._nonlinearSolverTolerance = 1e-3 \n",
    "        \n",
    "        NewtonError = 1.\n",
    "        while NewtonError > self._nonlinearSolverTolerance :\n",
    "            uNew = uOld - NewtonMethodFunction(uOld)/NewtonMethodDerivative(uOld)\n",
    "            NewtonCounter += 1\n",
    "            \n",
    "            NewtonError = np.fabs(uOld - uNew)\n",
    "            uOld = uNew\n",
    "            \n",
    "            \n",
    "       \n",
    "        return uNew"
   ]
  },
  {
   "cell_type": "code",
   "execution_count": 7,
   "metadata": {},
   "outputs": [],
   "source": [
    "class LogisticRightHandSide:\n",
    "        \n",
    "    def __init__(self, alpha, R):\n",
    "        self._alpha = float(alpha)\n",
    "        self._R = float(R)\n",
    "    \n",
    "    \n",
    "    def __call__(self, u):\n",
    "        return self._alpha*u*(1. - u/self._R)"
   ]
  },
  {
   "cell_type": "code",
   "execution_count": 8,
   "metadata": {},
   "outputs": [],
   "source": [
    "rhs1 = LogisticRightHandSide(alpha=0.2, R=100.)"
   ]
  },
  {
   "cell_type": "code",
   "execution_count": 11,
   "metadata": {},
   "outputs": [
    {
     "data": {
      "image/png": "[encoded data removed]",
      "text/plain": [
       "<Figure size 792x504 with 1 Axes>"
      ]
     },
     "metadata": {
      "needs_background": "light"
     },
     "output_type": "display_data"
    }
   ],
   "source": [
    "methodsClass = [ExplicitEuler, SolveViaHeun, SolveViaRK4, Trapezoidal]\n",
    "plt.figure(figsize=(11,7))\n",
    "\n",
    " \n",
    "# именнно такая реализация в HPL\n",
    "for methodClass in methodsClass:\n",
    "    # вызываем конструктор\n",
    "    method = methodClass(f=rhs1, u0=2., numBlocks=30, tStart=0., tEnd=80.)\n",
    "\n",
    "    \n",
    "    method.Solve()\n",
    "    method.PlotSolution()\n",
    "\n",
    "\n",
    "plt.xlabel('Время')\n",
    "plt.ylabel('Популяция')\n",
    "plt.grid('off')\n",
    "plt.show() "
   ]
  },
  {
   "cell_type": "code",
   "execution_count": null,
   "metadata": {},
   "outputs": [],
   "source": []
  }
 ],
 "metadata": {
  "kernelspec": {
   "display_name": "Python 3",
   "language": "python",
   "name": "python3"
  },
  "language_info": {
   "codemirror_mode": {
    "name": "ipython",
    "version": 3
   },
   "file_extension": ".py",
   "mimetype": "text/x-python",
   "name": "python",
   "nbconvert_exporter": "python",
   "pygments_lexer": "ipython3",
   "version": "3.7.6"
  }
 },
 "nbformat": 4,
 "nbformat_minor": 4
}
