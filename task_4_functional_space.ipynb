{
 "cells": [
  {
   "cell_type": "code",
   "execution_count": 1,
   "metadata": {},
   "outputs": [],
   "source": [
    "import math as m\n",
    "import numpy as np\n",
    "import sympy as smp\n",
    "import matplotlib.pyplot as plt\n",
    "%matplotlib inline\n",
    "\n",
    "xSym = smp.Symbol('x')"
   ]
  },
  {
   "cell_type": "code",
   "execution_count": 2,
   "metadata": {},
   "outputs": [],
   "source": [
    "class DerivativeNum:\n",
    "    \n",
    "    def __init__(self, f, h = 1e-3):\n",
    "        self._f = f\n",
    "        self._h = h\n",
    "        self.alpha = alpha\n",
    "        self.dots = dots\n",
    "    \n",
    "    def __call__(self, x):\n",
    "        der = 0\n",
    "        for i, k in zip(self.alpha, self.dots):\n",
    "            der = der + i*self._f(x+k*self._h)/self._h\n",
    "        return der"
   ]
  },
  {
   "cell_type": "code",
   "execution_count": 3,
   "metadata": {},
   "outputs": [],
   "source": [
    "class Derivative1th(DerivativeNum):\n",
    "    def __init__(self, f, h= 1e-3):\n",
    "        self._f = f\n",
    "        self._h = h\n",
    "        self.alpha = np.array([0.5,-0.5])\n",
    "        self.dots = np.array([1., -1.])"
   ]
  },
  {
   "cell_type": "code",
   "execution_count": 4,
   "metadata": {},
   "outputs": [],
   "source": [
    "class Derivative2th:\n",
    "    \n",
    "    def __init__(self, f, n = 2 ):\n",
    "        self._f = f\n",
    "        dfdx2 = f\n",
    "        for i in range(n):\n",
    "            dfdx2 = Derivative1th(dfdx2)\n",
    "        self._dfdx2 = dfdx2\n",
    "        \n",
    "    def __call__(self, x):\n",
    "        return self._dfdx2(x)"
   ]
  },
  {
   "cell_type": "code",
   "execution_count": 5,
   "metadata": {},
   "outputs": [],
   "source": [
    "class FunctionalSpaceC0:\n",
    "    \n",
    "    def _init_(self, a, b):\n",
    "        self._xLeft = a\n",
    "        self._xRight = b\n",
    "        \n",
    "    def MaxofFunc(self, f):\n",
    "        self._f = f\n",
    "        gridPoints = np.linspace(a, b, 100)\n",
    "        value = np.abs(f(gridPoints))\n",
    "        return value.max()\n",
    "    \n",
    "    def Norm(self, f):\n",
    "        self._f = f\n",
    "        return self.MaxofFunc(f)\n",
    "    \n",
    "    def Metric(self, f1, f2):\n",
    "        self._f1 = f1\n",
    "        self._f2 = f2\n",
    "        return self.Norm(lambda t: f1(t) - f2(t))\n",
    "    \n",
    "\n",
    "        \n",
    "        "
   ]
  },
  {
   "cell_type": "code",
   "execution_count": 6,
   "metadata": {},
   "outputs": [],
   "source": [
    "class FunctionalSpaceC1(FunctionalSpaceC0):\n",
    "    def Norm(self, f):\n",
    "            \n",
    "            return super().Norm(f) + self.MaxofFunc(Derivative1th(f))\n",
    "        "
   ]
  },
  {
   "cell_type": "code",
   "execution_count": 33,
   "metadata": {},
   "outputs": [],
   "source": [
    "class FunctionalSpaceC2(FunctionalSpaceC1):\n",
    "    def Norm(self, f):\n",
    "            \n",
    "            return super().Norm(f) + self.MaxofFunc(Derivative1th(f)) + self.MaxofFunc(Derivative2th(f))"
   ]
  },
  {
   "cell_type": "code",
   "execution_count": 8,
   "metadata": {},
   "outputs": [],
   "source": []
  },
  {
   "cell_type": "code",
   "execution_count": 9,
   "metadata": {},
   "outputs": [],
   "source": [
    "a = 0.\n",
    "b = 2.\n",
    "functionalSpaceC0 = FunctionalSpaceC0()\n",
    "functionalSpaceC1 = FunctionalSpaceC1()\n",
    "functionalSpaceC2 = FunctionalSpaceC2()"
   ]
  },
  {
   "cell_type": "code",
   "execution_count": 10,
   "metadata": {},
   "outputs": [
    {
     "data": {
      "text/plain": [
       "2.5"
      ]
     },
     "execution_count": 10,
     "metadata": {},
     "output_type": "execute_result"
    }
   ],
   "source": [
    "functionalSpaceC0.Norm(lambda t: 5./(2 + 3*(t**2)))\n",
    "\n",
    "\n"
   ]
  },
  {
   "cell_type": "code",
   "execution_count": 11,
   "metadata": {},
   "outputs": [
    {
     "data": {
      "text/plain": [
       "0.4363141507119022"
      ]
     },
     "execution_count": 11,
     "metadata": {},
     "output_type": "execute_result"
    }
   ],
   "source": [
    "functionalSpaceC0.Norm(lambda t: 2./(5 + np.cos(t)))"
   ]
  },
  {
   "cell_type": "code",
   "execution_count": 12,
   "metadata": {},
   "outputs": [
    {
     "data": {
      "text/plain": [
       "2.668401648721945"
      ]
     },
     "execution_count": 12,
     "metadata": {},
     "output_type": "execute_result"
    }
   ],
   "source": [
    "functionalSpaceC0.Norm( lambda t: (3. + 4.*(t**2))**(1./3))"
   ]
  },
  {
   "cell_type": "code",
   "execution_count": 13,
   "metadata": {},
   "outputs": [
    {
     "data": {
      "text/plain": [
       "1.1283791670955126"
      ]
     },
     "execution_count": 13,
     "metadata": {},
     "output_type": "execute_result"
    }
   ],
   "source": [
    "functionalSpaceC0.Norm( lambda t: 2.*np.exp(-(t**2))/(m.pi)**(0.5))"
   ]
  },
  {
   "cell_type": "code",
   "execution_count": 14,
   "metadata": {},
   "outputs": [
    {
     "data": {
      "text/plain": [
       "4.488426045626397"
      ]
     },
     "execution_count": 14,
     "metadata": {},
     "output_type": "execute_result"
    }
   ],
   "source": [
    "functionalSpaceC1.Norm(lambda t: 5./(2 + 3*(t**2)))"
   ]
  },
  {
   "cell_type": "code",
   "execution_count": 15,
   "metadata": {},
   "outputs": [
    {
     "data": {
      "text/plain": [
       "0.5229874979440947"
      ]
     },
     "execution_count": 15,
     "metadata": {},
     "output_type": "execute_result"
    }
   ],
   "source": [
    "functionalSpaceC1.Norm(lambda t: 2./(5 + np.cos(t)))"
   ]
  },
  {
   "cell_type": "code",
   "execution_count": 16,
   "metadata": {},
   "outputs": [
    {
     "data": {
      "text/plain": [
       "3.431542275819927"
      ]
     },
     "execution_count": 16,
     "metadata": {},
     "output_type": "execute_result"
    }
   ],
   "source": [
    "functionalSpaceC1.Norm(lambda t: (3. + 4.*(t**2))**(1./3))"
   ]
  },
  {
   "cell_type": "code",
   "execution_count": 17,
   "metadata": {},
   "outputs": [
    {
     "data": {
      "text/plain": [
       "2.0962614173649525"
      ]
     },
     "execution_count": 17,
     "metadata": {},
     "output_type": "execute_result"
    }
   ],
   "source": [
    "functionalSpaceC1.Norm(lambda t: 2.*np.exp(-(t**2))/(m.pi)**(0.5))"
   ]
  },
  {
   "cell_type": "code",
   "execution_count": 18,
   "metadata": {},
   "outputs": [
    {
     "data": {
      "text/plain": [
       "2.1666666666666665"
      ]
     },
     "execution_count": 18,
     "metadata": {},
     "output_type": "execute_result"
    }
   ],
   "source": [
    "functionalSpaceC0.Metric(lambda t: 5./(2 + 3*(t**2)), lambda t: 2./(5 + np.cos(t)) )"
   ]
  },
  {
   "cell_type": "code",
   "execution_count": 19,
   "metadata": {},
   "outputs": [
    {
     "data": {
      "text/plain": [
       "2.3112587915790876"
      ]
     },
     "execution_count": 19,
     "metadata": {},
     "output_type": "execute_result"
    }
   ],
   "source": [
    "functionalSpaceC0.Metric(lambda t: 5./(2 + 3*(t**2)), lambda t: (3. + 4.*(t**2))**(1./3) )"
   ]
  },
  {
   "cell_type": "code",
   "execution_count": 20,
   "metadata": {},
   "outputs": [
    {
     "data": {
      "text/plain": [
       "1.3716208329044874"
      ]
     },
     "execution_count": 20,
     "metadata": {},
     "output_type": "execute_result"
    }
   ],
   "source": [
    "functionalSpaceC0.Metric(lambda t: 5./(2 + 3*(t**2)),  lambda t: 2.*np.exp(-(t**2))/(m.pi)**(0.5) )"
   ]
  },
  {
   "cell_type": "code",
   "execution_count": 21,
   "metadata": {},
   "outputs": [
    {
     "data": {
      "text/plain": [
       "2.2320874980100425"
      ]
     },
     "execution_count": 21,
     "metadata": {},
     "output_type": "execute_result"
    }
   ],
   "source": [
    "functionalSpaceC0.Metric(lambda t: 2./(5 + np.cos(t)), lambda t: (3. + 4.*(t**2))**(1./3))"
   ]
  },
  {
   "cell_type": "code",
   "execution_count": 22,
   "metadata": {},
   "outputs": [
    {
     "data": {
      "text/plain": [
       "0.7950458337621793"
      ]
     },
     "execution_count": 22,
     "metadata": {},
     "output_type": "execute_result"
    }
   ],
   "source": [
    "functionalSpaceC0.Metric(lambda t: 2./(5 + np.cos(t)), lambda t: 2.*np.exp(-(t**2))/(m.pi)**(0.5))"
   ]
  },
  {
   "cell_type": "code",
   "execution_count": 23,
   "metadata": {},
   "outputs": [
    {
     "data": {
      "text/plain": [
       "2.647734663367853"
      ]
     },
     "execution_count": 23,
     "metadata": {},
     "output_type": "execute_result"
    }
   ],
   "source": [
    "functionalSpaceC0.Metric(lambda t: (3. + 4.*(t**2))**(1./3), lambda t: 2.*np.exp(-(t**2))/(m.pi)**(0.5))"
   ]
  },
  {
   "cell_type": "code",
   "execution_count": 24,
   "metadata": {},
   "outputs": [
    {
     "data": {
      "text/plain": [
       "4.181129503986805"
      ]
     },
     "execution_count": 24,
     "metadata": {},
     "output_type": "execute_result"
    }
   ],
   "source": [
    "functionalSpaceC1.Metric(lambda t: 5./(2 + 3*(t**2)), lambda t: 2./(5 + np.cos(t)) )"
   ]
  },
  {
   "cell_type": "code",
   "execution_count": 25,
   "metadata": {},
   "outputs": [
    {
     "data": {
      "text/plain": [
       "4.828473582903138"
      ]
     },
     "execution_count": 25,
     "metadata": {},
     "output_type": "execute_result"
    }
   ],
   "source": [
    "functionalSpaceC1.Metric(lambda t: 5./(2 + 3*(t**2)), lambda t: (3. + 4.*(t**2))**(1./3) )"
   ]
  },
  {
   "cell_type": "code",
   "execution_count": 26,
   "metadata": {},
   "outputs": [
    {
     "data": {
      "text/plain": [
       "2.555044367324773"
      ]
     },
     "execution_count": 26,
     "metadata": {},
     "output_type": "execute_result"
    }
   ],
   "source": [
    "functionalSpaceC1.Metric(lambda t: 5./(2 + 3*(t**2)),  lambda t: 2.*np.exp(-(t**2))/(m.pi)**(0.5) )\n"
   ]
  },
  {
   "cell_type": "code",
   "execution_count": 27,
   "metadata": {},
   "outputs": [
    {
     "data": {
      "text/plain": [
       "2.921691802371225"
      ]
     },
     "execution_count": 27,
     "metadata": {},
     "output_type": "execute_result"
    }
   ],
   "source": [
    "functionalSpaceC1.Metric(lambda t: 2./(5 + np.cos(t)), lambda t: (3. + 4.*(t**2))**(1./3))"
   ]
  },
  {
   "cell_type": "code",
   "execution_count": 28,
   "metadata": {},
   "outputs": [
    {
     "data": {
      "text/plain": [
       "1.802407523987176"
      ]
     },
     "execution_count": 28,
     "metadata": {},
     "output_type": "execute_result"
    }
   ],
   "source": [
    "functionalSpaceC1.Metric(lambda t: 2./(5 + np.cos(t)), lambda t: 2.*np.exp(-(t**2))/(m.pi)**(0.5))"
   ]
  },
  {
   "cell_type": "code",
   "execution_count": 29,
   "metadata": {},
   "outputs": [
    {
     "data": {
      "text/plain": [
       "4.279271394015179"
      ]
     },
     "execution_count": 29,
     "metadata": {},
     "output_type": "execute_result"
    }
   ],
   "source": [
    "functionalSpaceC1.Metric(lambda t: (3. + 4.*(t**2))**(1./3), lambda t: 2.*np.exp(-(t**2))/(m.pi)**(0.5))"
   ]
  },
  {
   "cell_type": "code",
   "execution_count": 34,
   "metadata": {},
   "outputs": [
    {
     "data": {
      "text/plain": [
       "6.476852091252795"
      ]
     },
     "execution_count": 34,
     "metadata": {},
     "output_type": "execute_result"
    }
   ],
   "source": [
    "functionalSpaceC2.Norm(lambda t: 5./(2 + 3*(t**2)))\n"
   ]
  },
  {
   "cell_type": "code",
   "execution_count": 35,
   "metadata": {},
   "outputs": [
    {
     "data": {
      "text/plain": [
       "0.6096608451762873"
      ]
     },
     "execution_count": 35,
     "metadata": {},
     "output_type": "execute_result"
    }
   ],
   "source": [
    "functionalSpaceC2.Norm(lambda t: 2./(5 + np.cos(t)))"
   ]
  },
  {
   "cell_type": "code",
   "execution_count": 36,
   "metadata": {},
   "outputs": [
    {
     "data": {
      "text/plain": [
       "4.19468290291791"
      ]
     },
     "execution_count": 36,
     "metadata": {},
     "output_type": "execute_result"
    }
   ],
   "source": [
    "functionalSpaceC2.Norm( lambda t: (3. + 4.*(t**2))**(1./3))"
   ]
  },
  {
   "cell_type": "code",
   "execution_count": 37,
   "metadata": {},
   "outputs": [
    {
     "data": {
      "text/plain": [
       "3.0641436676343927"
      ]
     },
     "execution_count": 37,
     "metadata": {},
     "output_type": "execute_result"
    }
   ],
   "source": [
    "functionalSpaceC2.Norm( lambda t: 2.*np.exp(-(t**2))/(m.pi)**(0.5))"
   ]
  },
  {
   "cell_type": "code",
   "execution_count": 38,
   "metadata": {},
   "outputs": [
    {
     "data": {
      "text/plain": [
       "6.195592341306943"
      ]
     },
     "execution_count": 38,
     "metadata": {},
     "output_type": "execute_result"
    }
   ],
   "source": [
    "functionalSpaceC2.Metric(lambda t: 5./(2 + 3*(t**2)), lambda t: 2./(5 + np.cos(t)) )"
   ]
  },
  {
   "cell_type": "code",
   "execution_count": 39,
   "metadata": {},
   "outputs": [
    {
     "data": {
      "text/plain": [
       "7.345688374227189"
      ]
     },
     "execution_count": 39,
     "metadata": {},
     "output_type": "execute_result"
    }
   ],
   "source": [
    "functionalSpaceC2.Metric(lambda t: 5./(2 + 3*(t**2)), lambda t: (3. + 4.*(t**2))**(1./3) )"
   ]
  },
  {
   "cell_type": "code",
   "execution_count": 41,
   "metadata": {},
   "outputs": [
    {
     "data": {
      "text/plain": [
       "3.738467901745058"
      ]
     },
     "execution_count": 41,
     "metadata": {},
     "output_type": "execute_result"
    }
   ],
   "source": [
    "functionalSpaceC2.Metric(lambda t: 5./(2 + 3*(t**2)),  lambda t: 2.*np.exp(-(t**2))/(m.pi)**(0.5) )\n"
   ]
  },
  {
   "cell_type": "code",
   "execution_count": 42,
   "metadata": {},
   "outputs": [
    {
     "data": {
      "text/plain": [
       "3.6112961067324076"
      ]
     },
     "execution_count": 42,
     "metadata": {},
     "output_type": "execute_result"
    }
   ],
   "source": [
    "functionalSpaceC2.Metric(lambda t: 2./(5 + np.cos(t)), lambda t: (3. + 4.*(t**2))**(1./3))"
   ]
  },
  {
   "cell_type": "code",
   "execution_count": 43,
   "metadata": {},
   "outputs": [
    {
     "data": {
      "text/plain": [
       "2.8097692142121726"
      ]
     },
     "execution_count": 43,
     "metadata": {},
     "output_type": "execute_result"
    }
   ],
   "source": [
    "functionalSpaceC2.Metric(lambda t: 2./(5 + np.cos(t)), lambda t: 2.*np.exp(-(t**2))/(m.pi)**(0.5))"
   ]
  },
  {
   "cell_type": "code",
   "execution_count": 44,
   "metadata": {},
   "outputs": [
    {
     "data": {
      "text/plain": [
       "5.9108081246625055"
      ]
     },
     "execution_count": 44,
     "metadata": {},
     "output_type": "execute_result"
    }
   ],
   "source": [
    "functionalSpaceC2.Metric(lambda t: (3. + 4.*(t**2))**(1./3), lambda t: 2.*np.exp(-(t**2))/(m.pi)**(0.5))"
   ]
  },
  {
   "cell_type": "code",
   "execution_count": null,
   "metadata": {},
   "outputs": [],
   "source": []
  }
 ],
 "metadata": {
  "kernelspec": {
   "display_name": "Python 3",
   "language": "python",
   "name": "python3"
  },
  "language_info": {
   "codemirror_mode": {
    "name": "ipython",
    "version": 3
   },
   "file_extension": ".py",
   "mimetype": "text/x-python",
   "name": "python",
   "nbconvert_exporter": "python",
   "pygments_lexer": "ipython3",
   "version": "3.7.6"
  }
 },
 "nbformat": 4,
 "nbformat_minor": 4
}
