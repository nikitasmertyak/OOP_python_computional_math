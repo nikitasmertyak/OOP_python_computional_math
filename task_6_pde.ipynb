{
 "cells": [
  {
   "cell_type": "code",
   "execution_count": 1,
   "metadata": {},
   "outputs": [],
   "source": [
    "import numpy as np\n",
    "import math as m\n",
    "import matplotlib.pyplot as plt\n",
    "import time\n",
    "import timeit\n",
    "%matplotlib inline\n",
    "import numba as nb\n",
    "\n",
    "figsizeConst = (11.6, 7.)\n",
    "plt.rc('font', size=20)"
   ]
  },
  {
   "cell_type": "code",
   "execution_count": 2,
   "metadata": {},
   "outputs": [],
   "source": [
    "class AbstractMainMethod:\n",
    "     \n",
    "        def __init__(self, f, u0, tStart, tEnd, xLeft, xRight, h, dt):\n",
    "            \n",
    "            \n",
    "            \n",
    "            self.f = f\n",
    "            self.u0 = u0\n",
    "            self.h = h\n",
    "            self.dt = dt\n",
    "            self.xLeft = xLeft\n",
    "            self.xRight = xRight\n",
    "            \n",
    "            self.a = None\n",
    "            self.b = None\n",
    "        \n",
    "            self.tnumBlocks =int((float(tEnd) - float(tStart))/self.dt)\n",
    "            self.tnumPoints = self.tnumBlocks + 1\n",
    "        \n",
    "            self.xnumBlocks = int((float(xRight) - float(xLeft))/self.h)\n",
    "            self.xnumPoints = self.xnumBlocks + 1\n",
    "       \n",
    "            self.solutionArray = np.zeros((self.tnumPoints, self.xnumPoints))\n",
    "            self.timeArray = np.linspace(tStart, tEnd, self.tnumPoints)\n",
    "            self.fieldArray = np.linspace(xLeft, xRight, self.xnumPoints)\n",
    "        \n",
    "            self.tStart, self.tEnd = float(tStart), float(tEnd)\n",
    "            self.xLeft, self.xRight = float(xLeft), float(xRight)\n",
    "        \n",
    "        def solve(self):\n",
    "            \n",
    "            self.solutionArray[0] = self.u0(self.fieldArray)\n",
    "        \n",
    "            for i in range(self.tnumBlocks):\n",
    "            \n",
    "                uOld, dt, f = self.solutionArray[i], self.dt, self.f, \n",
    "                self.solutionArray[i + 1] = uOld + dt * np.dot(self.b, self.koeff(uOld))\n",
    "                \n",
    "                \n",
    "        def koeff(self, ui):\n",
    "            koeff = np.zeros((len(self.b), len(ui)))\n",
    "            koeff[0] = self.f(ui)\n",
    "            for i in range(len(koeff) - 1):\n",
    "                koeff[i+1]  = self.f(ui + self.dt* np.dot(self.a[i+1, :], koeff))\n",
    "            return koeff\n",
    "        \n",
    "        def PlotSolution(self):\n",
    "        \n",
    "            plt.plot(self.fieldArray, +\n",
    "                 self.solutionArray[-1], '-')"
   ]
  },
  {
   "cell_type": "code",
   "execution_count": 3,
   "metadata": {},
   "outputs": [],
   "source": [
    "class ExplicitEuler(AbstractMainMethod):\n",
    "    \n",
    "    def __init__(self, f, u0, tStart, tEnd, xLeft, xRight, h, dt):\n",
    "        super().__init__( f, u0, tStart, tEnd, xLeft, xRight, h, dt)\n",
    "        self.a = np.array([0])\n",
    "        self.b = np.array([1])"
   ]
  },
  {
   "cell_type": "code",
   "execution_count": 4,
   "metadata": {},
   "outputs": [],
   "source": [
    "class SolveViaHeun(ExplicitEuler):\n",
    "    \n",
    "      def __init__(self, f, u0, tStart, tEnd, xLeft, xRight, h, dt):\n",
    "        super().__init__( f, u0, tStart, tEnd, xLeft, xRight, h, dt)\n",
    "        a = np.array([[0, 0], [1,0]] )\n",
    "        b = np. array([1/2, 1/2])\n",
    "        "
   ]
  },
  {
   "cell_type": "code",
   "execution_count": 5,
   "metadata": {},
   "outputs": [],
   "source": [
    "class SolveViaRK4(SolveViaHeun):\n",
    "    \n",
    "        def __init__(self, f, u0, tStart, tEnd, xLeft, xRight, h, dt):\n",
    "            super().__init__( f, u0, tStart, tEnd, xLeft, xRight, h, dt)\n",
    "            a = np.array([[0, 0, 0, 0], [1/2, 0, 0, 0], [0, 1/2, 0, 0], [0, 0, 1, 0]])\n",
    "            b = np. array([1/6, 1/3, 1/3, 1/6])\n",
    "       "
   ]
  },
  {
   "cell_type": "code",
   "execution_count": 6,
   "metadata": {},
   "outputs": [],
   "source": [
    "class LogisticRightHandSide:\n",
    "\n",
    "    def __init__(self, kappa, h, bl, br):\n",
    "        self.kappa = float(kappa)\n",
    "        self.h = float(h)\n",
    "        self.bl = float(bl)\n",
    "        self.br = float(br)\n",
    "\n",
    "    def __call__(self, u):\n",
    "        size = len(u)\n",
    "        A = np.zeros((size, size))\n",
    "        F = np.zeros(size)\n",
    "        F[0], F[-1] = self.bl, self.br\n",
    "        np.fill_diagonal(A, -2)\n",
    "        np.fill_diagonal(A[1:], 1)\n",
    "        np.fill_diagonal(A[:, 1:], 1)\n",
    "        return (np.dot(A, u) + F) * self.kappa / self.h**2"
   ]
  },
  {
   "cell_type": "code",
   "execution_count": 7,
   "metadata": {},
   "outputs": [],
   "source": [
    "methodsClass = [ExplicitEuler,SolveViaHeun, SolveViaRK4]"
   ]
  },
  {
   "cell_type": "code",
   "execution_count": 8,
   "metadata": {},
   "outputs": [],
   "source": [
    "rhs1 = LogisticRightHandSide(kappa = 0.1, h = 0.04, bl =0. , br = 0 )\n",
    "h = 0.04\n",
    "kappa = 0.1\n",
    "dt = h**2 / (kappa * 200.) \n",
    "\n",
    "def U0(vector):\n",
    "    ans = []\n",
    "    for arg in vector:\n",
    "        if arg<0:\n",
    "            raise NotImplementedError('Out of range')\n",
    "        if arg>1:\n",
    "            raise NotImplementedError('Out of range')\n",
    "        if 0.4<=arg<=0.6:\n",
    "            ans = ans + [1]\n",
    "        else:\n",
    "            ans = ans + [0]\n",
    "    return ans"
   ]
  },
  {
   "cell_type": "code",
   "execution_count": 9,
   "metadata": {},
   "outputs": [
    {
     "data": {
      "image/png": "[encoded data removed]",
      "text/plain": [
       "<Figure size 432x288 with 1 Axes>"
      ]
     },
     "metadata": {
      "needs_background": "light"
     },
     "output_type": "display_data"
    }
   ],
   "source": [
    "for methodClass in methodsClass:\n",
    "    # вызываем конструктор\n",
    "    method = methodClass(f=rhs1, u0=U0, tStart=0., tEnd=0.04, xLeft =0, xRight = 1, h = 0.04, dt = dt )\n",
    "\n",
    "    \n",
    "    method.solve()\n",
    "    method.PlotSolution()\n",
    "\n",
    "\n",
    "plt.grid('off')\n",
    "plt.show() "
   ]
  },
  {
   "cell_type": "code",
   "execution_count": null,
   "metadata": {},
   "outputs": [],
   "source": []
  }
 ],
 "metadata": {
  "kernelspec": {
   "display_name": "Python 3",
   "language": "python",
   "name": "python3"
  },
  "language_info": {
   "codemirror_mode": {
    "name": "ipython",
    "version": 3
   },
   "file_extension": ".py",
   "mimetype": "text/x-python",
   "name": "python",
   "nbconvert_exporter": "python",
   "pygments_lexer": "ipython3",
   "version": "3.7.6"
  }
 },
 "nbformat": 4,
 "nbformat_minor": 4
}
