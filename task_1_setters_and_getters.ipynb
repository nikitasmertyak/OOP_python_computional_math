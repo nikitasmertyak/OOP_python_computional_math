{
 "cells": [
  {
   "cell_type": "code",
   "execution_count": 1,
   "metadata": {},
   "outputs": [],
   "source": [
    "class Citizen_of_Russia:\n",
    "    \n",
    "#setters\n",
    "    \n",
    "    def SetName(self, name):\n",
    "        self._name = name \n",
    "            \n",
    "    def SetSurname(self, surname):\n",
    "        self._surname = surname\n",
    "        \n",
    "    def SetAge(self, age): \n",
    "        self._age = age \n",
    "    \n",
    "    def SetNationality(self, nationality):\n",
    "        self._nationality = nationality\n",
    "    \n",
    "    def SetAddress(self, address):\n",
    "        self._address = address\n",
    "    \n",
    "#getters \n",
    "    \n",
    "    def GetName(self):\n",
    "        return self._name\n",
    "    \n",
    "    def GetSurname(self):\n",
    "        return self._surname\n",
    "    \n",
    "    def GetAge(self):\n",
    "        return self._age\n",
    "    \n",
    "    def GetNationality(self):\n",
    "        return self._nationality\n",
    "    \n",
    "    def GetAdress(self):\n",
    "        return self._address\n",
    "    \n",
    "class Worker(Citizen_of_Russia):\n",
    "     \n",
    "# добавляем новые методы\n",
    "        \n",
    "        #setters \n",
    "    def SetCompanyName(self, companyName):\n",
    "        self._companyName = companyName\n",
    "        \n",
    "    def SetCompanyAddress(self, companyAddress):\n",
    "        self._companyAddress = companyAddress\n",
    "        \n",
    "    def SetWorkPhone(self, workPhone):\n",
    "        self._workPhone = workPhone\n",
    "        \n",
    "        #getters \n",
    "    def GetCompanyName(self):\n",
    "        return self._companyName\n",
    "    \n",
    "    def GetCompanyAddress(self):\n",
    "        return self._companyAddress\n",
    "    \n",
    "    def GetWorkPhone(self):\n",
    "        return self._workPhone\n",
    "\n",
    "class Scientist(Worker):\n",
    "  # добавляем новые методы\n",
    "       \n",
    "    \n",
    "        #setters  \n",
    "    def SetScientific_Field(self, scientific_Field):\n",
    "        self._scientific_Field = scientific_Field\n",
    "        \n",
    "    def SetType_of_Scientist(self, type_of_Scientist):\n",
    "        self._type_of_Scientist = type_of_Scientist\n",
    "        \n",
    "    def SetNumber_of_Publications(self,number_of_Publications): \n",
    "        self._number_of_Publications = number_of_Publications\n",
    "        \n",
    "        #getters \n",
    "    def GetScientific_Field(self):\n",
    "        return self._scientific_Field\n",
    "        \n",
    "    def GetType_of_Scientist(self):\n",
    "        return self._type_of_Scientist\n",
    "        \n",
    "    def GetNumber_of_Publications(self): \n",
    "        return self._number_of_Publications\n",
    "\n",
    "class Master(Scientist):\n",
    "    pass\n",
    "class Candidate(Scientist):\n",
    "    pass\n",
    "class Doctor(Scientist):\n",
    "    pass\n",
    "\n",
    "\n",
    "Master1 = Master()\n",
    "Candidate1 = Candidate()\n",
    "Doctor1 = Doctor()\n",
    "\n",
    "\n"
   ]
  },
  {
   "cell_type": "code",
   "execution_count": 2,
   "metadata": {},
   "outputs": [],
   "source": [
    "Master1.SetName('Nikita')\n",
    "Master1.SetSurname('Ilarion')\n",
    "Master1.SetAge('58')\n",
    "Master1.SetNationality('Ukraine')\n",
    "Master1.SetAddress('Moscow, Dmitrov Sreet, 32')\n",
    "Master1.SetCompanyName('Schlumberger')\n",
    "Master1.SetCompanyAddress('Moscow, Prokofeva Street, 45')\n",
    "Master1.SetWorkPhone('+79773508518')\n",
    "Master1.SetScientific_Field('Math')\n",
    "Master1.SetType_of_Scientist('calculator')\n",
    "Master1.SetNumber_of_Publications('56')\n",
    "               "
   ]
  },
  {
   "cell_type": "code",
   "execution_count": 3,
   "metadata": {},
   "outputs": [
    {
     "data": {
      "text/plain": [
       "'56'"
      ]
     },
     "execution_count": 3,
     "metadata": {},
     "output_type": "execute_result"
    }
   ],
   "source": [
    "Master1.GetName()\n",
    "Master1.GetSurname()\n",
    "Master1.GetAge()\n",
    "Master1.GetNationality()\n",
    "Master1.GetAdress()\n",
    "Master1.GetCompanyName()\n",
    "Master1.GetCompanyAddress()\n",
    "Master1.GetWorkPhone()\n",
    "Master1.GetScientific_Field()\n",
    "Master1.GetType_of_Scientist()\n",
    "Master1.GetNumber_of_Publications()\n",
    "               "
   ]
  },
  {
   "cell_type": "code",
   "execution_count": 4,
   "metadata": {},
   "outputs": [
    {
     "name": "stdout",
     "output_type": "stream",
     "text": [
      "Nikita ; Ilarion ; 58 ; Ukraine ; Moscow, Dmitrov Sreet, 32 ; Schlumberger ; Moscow, Prokofeva Street, 45 ; +79773508518 ; Math ; calculator ; 56\n"
     ]
    }
   ],
   "source": [
    "print(Master1.GetName(), ';', Master1.GetSurname(), ';', Master1.GetAge(), ';', Master1.GetNationality(), ';' , Master1.GetAdress(), ';' , Master1.GetCompanyName(),';' , Master1.GetCompanyAddress(), ';' , Master1.GetWorkPhone(), ';' , Master1.GetScientific_Field(), ';' , Master1.GetType_of_Scientist(), ';' , Master1.GetNumber_of_Publications())\n"
   ]
  },
  {
   "cell_type": "code",
   "execution_count": 5,
   "metadata": {},
   "outputs": [],
   "source": [
    "Candidate1.SetName('Valeriy')\n",
    "Candidate1.SetSurname('Sokol')\n",
    "Candidate1.SetAge('34')\n",
    "Candidate1.SetNationality('Russia')\n",
    "Candidate1.SetAddress('Novosibirsk, Liom Sreet, 92')\n",
    "Candidate1.SetCompanyName('Gazprom')\n",
    "Candidate1.SetCompanyAddress('Moscow, Manko Street, 45')\n",
    "Candidate1.SetWorkPhone('+79883509518')\n",
    "Candidate1.SetScientific_Field('Phys')\n",
    "Candidate1.SetType_of_Scientist('theorist')\n",
    "Candidate1.SetNumber_of_Publications('20')"
   ]
  },
  {
   "cell_type": "code",
   "execution_count": 6,
   "metadata": {},
   "outputs": [
    {
     "data": {
      "text/plain": [
       "'20'"
      ]
     },
     "execution_count": 6,
     "metadata": {},
     "output_type": "execute_result"
    }
   ],
   "source": [
    "Candidate1.GetName()\n",
    "Candidate1.GetSurname()\n",
    "Candidate1.GetAge()\n",
    "Candidate1.GetNationality()\n",
    "Candidate1.GetAdress()\n",
    "Candidate1.GetCompanyName()\n",
    "Candidate1.GetCompanyAddress()\n",
    "Candidate1.GetWorkPhone()\n",
    "Candidate1.GetScientific_Field()\n",
    "Candidate1.GetType_of_Scientist()\n",
    "Candidate1.GetNumber_of_Publications()"
   ]
  },
  {
   "cell_type": "code",
   "execution_count": 7,
   "metadata": {},
   "outputs": [
    {
     "name": "stdout",
     "output_type": "stream",
     "text": [
      "Valeriy ; Sokol ; 34 ; Russia ; Novosibirsk, Liom Sreet, 92 ; Gazprom ; Moscow, Manko Street, 45 ; +79883509518 ; Phys ; theorist ; 20\n"
     ]
    }
   ],
   "source": [
    "print(Candidate1.GetName(), ';', Candidate1.GetSurname(), ';', Candidate1.GetAge(), ';', Candidate1.GetNationality(), ';' , Candidate1.GetAdress(), ';' , Candidate1.GetCompanyName(),';' , Candidate1.GetCompanyAddress(), ';' , Candidate1.GetWorkPhone(), ';' , Candidate1.GetScientific_Field(), ';' , Candidate1.GetType_of_Scientist(), ';' , Candidate1.GetNumber_of_Publications())\n"
   ]
  },
  {
   "cell_type": "code",
   "execution_count": 8,
   "metadata": {},
   "outputs": [],
   "source": [
    "Doctor1.SetName('Yan')\n",
    "Doctor1.SetSurname('Nikol')\n",
    "Doctor1.SetAge('15')\n",
    "Doctor1.SetNationality('Belarus')\n",
    "Doctor1.SetAddress('Kursk, Noviy Sreet, 192')\n",
    "Doctor1.SetCompanyName('Stal')\n",
    "Doctor1.SetCompanyAddress('Moscow, Ludvig Street, 15')\n",
    "Doctor1.SetWorkPhone('+79883546518')\n",
    "Doctor1.SetScientific_Field('Chemistry')\n",
    "Doctor1.SetType_of_Scientist('experimenter')\n",
    "Doctor1.SetNumber_of_Publications('1')"
   ]
  },
  {
   "cell_type": "code",
   "execution_count": 9,
   "metadata": {},
   "outputs": [
    {
     "data": {
      "text/plain": [
       "'1'"
      ]
     },
     "execution_count": 9,
     "metadata": {},
     "output_type": "execute_result"
    }
   ],
   "source": [
    "Doctor1.GetName()\n",
    "Doctor1.GetSurname()\n",
    "Doctor1.GetAge()\n",
    "Doctor1.GetNationality()\n",
    "Doctor1.GetAdress()\n",
    "Doctor1.GetCompanyName()\n",
    "Doctor1.GetCompanyAddress()\n",
    "Doctor1.GetWorkPhone()\n",
    "Doctor1.GetScientific_Field()\n",
    "Doctor1.GetType_of_Scientist()\n",
    "Doctor1.GetNumber_of_Publications()"
   ]
  },
  {
   "cell_type": "code",
   "execution_count": 10,
   "metadata": {},
   "outputs": [
    {
     "name": "stdout",
     "output_type": "stream",
     "text": [
      "Yan ; Nikol ; 15 ; Belarus ; Kursk, Noviy Sreet, 192 ; Stal ; Moscow, Ludvig Street, 15 ; +79883546518 ; Chemistry ; experimenter ; 1\n"
     ]
    }
   ],
   "source": [
    "print(Doctor1.GetName(), ';', Doctor1.GetSurname(), ';', Doctor1.GetAge(), ';', Doctor1.GetNationality(), ';' , Doctor1.GetAdress(), ';' , Doctor1.GetCompanyName(),';' , Doctor1.GetCompanyAddress(), ';' , Doctor1.GetWorkPhone(), ';' , Doctor1.GetScientific_Field(), ';' , Doctor1.GetType_of_Scientist(), ';' , Doctor1.GetNumber_of_Publications())\n"
   ]
  },
  {
   "cell_type": "code",
   "execution_count": null,
   "metadata": {},
   "outputs": [],
   "source": []
  }
 ],
 "metadata": {
  "kernelspec": {
   "display_name": "Python 3",
   "language": "python",
   "name": "python3"
  },
  "language_info": {
   "codemirror_mode": {
    "name": "ipython",
    "version": 3
   },
   "file_extension": ".py",
   "mimetype": "text/x-python",
   "name": "python",
   "nbconvert_exporter": "python",
   "pygments_lexer": "ipython3",
   "version": "3.7.6"
  }
 },
 "nbformat": 4,
 "nbformat_minor": 4
}
